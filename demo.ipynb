{
 "metadata": {
  "language_info": {
   "codemirror_mode": {
    "name": "ipython",
    "version": 3
   },
   "file_extension": ".py",
   "mimetype": "text/x-python",
   "name": "python",
   "nbconvert_exporter": "python",
   "pygments_lexer": "ipython3",
   "version": "3.6.9-final"
  },
  "orig_nbformat": 2,
  "kernelspec": {
   "name": "python36964bit4b57db7e1d80455996a09e303bda8f1a",
   "display_name": "Python 3.6.9 64-bit"
  }
 },
 "nbformat": 4,
 "nbformat_minor": 2,
 "cells": [
  {
   "cell_type": "code",
   "execution_count": 4,
   "metadata": {},
   "outputs": [],
   "source": [
    "import pandas as pd\n",
    "import numpy as np\n",
    "from selenium import webdriver\n",
    "import time\n",
    "from geopy.geocoders import Nominatim\n",
    "import folium\n",
    "import requests\n",
    "from pandas.io.json import json_normalize\n",
    "from sklearn.cluster import KMeans\n",
    "import matplotlib.cm as cm\n",
    "import matplotlib.colors as colors\n",
    "\n",
    "# enter working directory\n",
    "#cd = input('enter directory:')"
   ]
  },
  {
   "cell_type": "code",
   "execution_count": 5,
   "metadata": {
    "tags": []
   },
   "outputs": [
    {
     "output_type": "stream",
     "name": "stdout",
     "text": "The geograpical coordinate of Manhattan are 10.7365728, 106.7224322.\n"
    }
   ],
   "source": [
    "address = 'Quan 7, Ho Chi Minh'\n",
    "\n",
    "geolocator = Nominatim(user_agent=\"ny_explorer\")\n",
    "location = geolocator.geocode(address)\n",
    "latitude = location.latitude\n",
    "longitude = location.longitude\n",
    "print('The geograpical coordinate of Manhattan are {}, {}.'.format(latitude, longitude))"
   ]
  },
  {
   "cell_type": "code",
   "execution_count": 6,
   "metadata": {},
   "outputs": [
    {
     "output_type": "execute_result",
     "data": {
      "text/plain": "<folium.folium.Map at 0x7f81a896cac8>",
      "text/html": "<div style=\"width:100%;\"><div style=\"position:relative;width:100%;height:0;padding-bottom:60%;\"><span style=\"color:#565656\">Make this Notebook Trusted to load map: File -> Trust Notebook</span><iframe src=\"about:blank\" style=\"position:absolute;width:100%;height:100%;left:0;top:0;border:none !important;\" data-html=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 onload=\"this.contentDocument.open();this.contentDocument.write(atob(this.getAttribute('data-html')));this.contentDocument.close();\" allowfullscreen webkitallowfullscreen mozallowfullscreen></iframe></div></div>"
     },
     "metadata": {},
     "execution_count": 6
    }
   ],
   "source": [
    "map_dn = folium.Map(location=[latitude, longitude], zoom_start=13)\n",
    "map_dn"
   ]
  },
  {
   "cell_type": "code",
   "execution_count": 28,
   "metadata": {},
   "outputs": [],
   "source": [
    "CLIENT_ID = 'ZRHSAYU5TZTMWAMXTJ3HTUEN5CHDJAI1ZXC3STWIPCUVIJZT' # your Foursquare ID\n",
    "CLIENT_SECRET = 'T2CXAM5OQ2UIINW1BUWDTOAW1W4IXOXB352VTCHJQKWFCA2P' # your Foursquare Secret\n",
    "VERSION = '20180605' # Foursquare API version\n",
    "\n",
    "LIMIT = 10 # limit of number of venues returned by Foursquare API\n",
    "radius = 3000 # define radius\n",
    "\n",
    "\n",
    "request_parameters = {\n",
    "    \"client_id\": CLIENT_ID,\n",
    "    \"client_secret\": CLIENT_SECRET,\n",
    "    \"v\": '20180605',\n",
    "    \"section\": \"Coffee\",\n",
    "    \"near\": \"Quan 1\",\n",
    "    \"radius\": 1000,\n",
    "    \"limit\": 100}\n",
    "\n",
    "data = requests.get(\"https://api.foursquare.com/v2/venues/explore\", params=request_parameters)"
   ]
  },
  {
   "cell_type": "code",
   "execution_count": 27,
   "metadata": {},
   "outputs": [
    {
     "output_type": "execute_result",
     "data": {
      "text/plain": "                          name          categories        lat         lng  \\\n0            Starbucks Reserve         Coffee Shop  10.778961  106.698185   \n1                    Starbucks         Coffee Shop  10.781078  106.700207   \n2       TCF The Coffee Factory         Coffee Shop  10.780012  106.700768   \n3                     Basilico  Italian Restaurant  10.781411  106.701243   \n4                  Cộng Cà Phê                Café  10.777917  106.701266   \n..                         ...                 ...        ...         ...   \n79               Hoa Da Coffee                Café  10.784382  106.697087   \n80  Cafe Highland Mạc Đĩnh Chi                Café  10.785363  106.698653   \n81            Windows 3 coffee                Café  10.784962  106.696355   \n82           Trung Nguyen Cafe                Café  10.785349  106.696909   \n83                Cafe Espacio                Café  10.779707  106.704834   \n\n                          id  \n0   59997bb15d0fea4b39463d94  \n1   554faad7498e38786638336f  \n2   53cf1253498e7214fa6d24b5  \n3   4e2b8d117d8b7deda6d2baa4  \n4   56764e09498eca1773f719b4  \n..                       ...  \n79  4d578f80380ab1f7e9e0fdf4  \n80  505e7dabe4b011bf1f276520  \n81  4bcef8d4cc8cd13a6318c5cf  \n82  4c7cfc0c278eb713dcba6d80  \n83  4f080d9fe4b0ca3a5be210e6  \n\n[84 rows x 5 columns]",
      "text/html": "<div>\n<style scoped>\n    .dataframe tbody tr th:only-of-type {\n        vertical-align: middle;\n    }\n\n    .dataframe tbody tr th {\n        vertical-align: top;\n    }\n\n    .dataframe thead th {\n        text-align: right;\n    }\n</style>\n<table border=\"1\" class=\"dataframe\">\n  <thead>\n    <tr style=\"text-align: right;\">\n      <th></th>\n      <th>name</th>\n      <th>categories</th>\n      <th>lat</th>\n      <th>lng</th>\n      <th>id</th>\n    </tr>\n  </thead>\n  <tbody>\n    <tr>\n      <th>0</th>\n      <td>Starbucks Reserve</td>\n      <td>Coffee Shop</td>\n      <td>10.778961</td>\n      <td>106.698185</td>\n      <td>59997bb15d0fea4b39463d94</td>\n    </tr>\n    <tr>\n      <th>1</th>\n      <td>Starbucks</td>\n      <td>Coffee Shop</td>\n      <td>10.781078</td>\n      <td>106.700207</td>\n      <td>554faad7498e38786638336f</td>\n    </tr>\n    <tr>\n      <th>2</th>\n      <td>TCF The Coffee Factory</td>\n      <td>Coffee Shop</td>\n      <td>10.780012</td>\n      <td>106.700768</td>\n      <td>53cf1253498e7214fa6d24b5</td>\n    </tr>\n    <tr>\n      <th>3</th>\n      <td>Basilico</td>\n      <td>Italian Restaurant</td>\n      <td>10.781411</td>\n      <td>106.701243</td>\n      <td>4e2b8d117d8b7deda6d2baa4</td>\n    </tr>\n    <tr>\n      <th>4</th>\n      <td>Cộng Cà Phê</td>\n      <td>Café</td>\n      <td>10.777917</td>\n      <td>106.701266</td>\n      <td>56764e09498eca1773f719b4</td>\n    </tr>\n    <tr>\n      <th>...</th>\n      <td>...</td>\n      <td>...</td>\n      <td>...</td>\n      <td>...</td>\n      <td>...</td>\n    </tr>\n    <tr>\n      <th>79</th>\n      <td>Hoa Da Coffee</td>\n      <td>Café</td>\n      <td>10.784382</td>\n      <td>106.697087</td>\n      <td>4d578f80380ab1f7e9e0fdf4</td>\n    </tr>\n    <tr>\n      <th>80</th>\n      <td>Cafe Highland Mạc Đĩnh Chi</td>\n      <td>Café</td>\n      <td>10.785363</td>\n      <td>106.698653</td>\n      <td>505e7dabe4b011bf1f276520</td>\n    </tr>\n    <tr>\n      <th>81</th>\n      <td>Windows 3 coffee</td>\n      <td>Café</td>\n      <td>10.784962</td>\n      <td>106.696355</td>\n      <td>4bcef8d4cc8cd13a6318c5cf</td>\n    </tr>\n    <tr>\n      <th>82</th>\n      <td>Trung Nguyen Cafe</td>\n      <td>Café</td>\n      <td>10.785349</td>\n      <td>106.696909</td>\n      <td>4c7cfc0c278eb713dcba6d80</td>\n    </tr>\n    <tr>\n      <th>83</th>\n      <td>Cafe Espacio</td>\n      <td>Café</td>\n      <td>10.779707</td>\n      <td>106.704834</td>\n      <td>4f080d9fe4b0ca3a5be210e6</td>\n    </tr>\n  </tbody>\n</table>\n<p>84 rows × 5 columns</p>\n</div>"
     },
     "metadata": {},
     "execution_count": 27
    }
   ],
   "source": [
    "results = data.json()\n",
    "\n",
    "# function that extracts the category of the venue\n",
    "def get_category_type(row):\n",
    "    try:\n",
    "        categories_list = row['categories']\n",
    "    except:\n",
    "        categories_list = row['venue.categories']\n",
    "        \n",
    "    if len(categories_list) == 0:\n",
    "        return None\n",
    "    else:\n",
    "        return categories_list[0]['name']\n",
    "\n",
    "venues = results['response']['groups'][0]['items']\n",
    "    \n",
    "nearby_venues = json_normalize(venues) # flatten JSON\n",
    "\n",
    "# filter columns\n",
    "filtered_columns = ['venue.name', 'venue.categories', 'venue.location.lat', 'venue.location.lng','venue.id']\n",
    "nearby_venues =nearby_venues.loc[:, filtered_columns]\n",
    "\n",
    "# filter the category for each row\n",
    "nearby_venues['venue.categories'] = nearby_venues.apply(get_category_type, axis=1)\n",
    "\n",
    "# clean columns\n",
    "nearby_venues.columns = [col.split(\".\")[-1] for col in nearby_venues.columns]\n",
    "\n",
    "nearby_venues"
   ]
  },
  {
   "cell_type": "code",
   "execution_count": null,
   "metadata": {},
   "outputs": [],
   "source": []
  },
  {
   "cell_type": "code",
   "execution_count": 31,
   "metadata": {},
   "outputs": [
    {
     "output_type": "execute_result",
     "data": {
      "text/plain": "{'meta': {'code': 200, 'requestId': '5f1bea77fa27bf3620477826'},\n 'response': {'venue': {'id': '56ab49cc498e877ac0cf32fc',\n   'name': \"Pizza 4P's\",\n   'contact': {},\n   'location': {'address': 'Tôn Dật Tiên District 7',\n    'lat': 10.731694587962846,\n    'lng': 106.71575577202888,\n    'labeledLatLngs': [{'label': 'display',\n      'lat': 10.731694587962846,\n      'lng': 106.71575577202888}],\n    'cc': 'VN',\n    'city': 'Hồ Chí Minh',\n    'country': 'Việt Nam',\n    'formattedAddress': ['Tôn Dật Tiên District 7',\n     'Hồ Chí Minh',\n     'Việt Nam']},\n   'canonicalUrl': 'https://foursquare.com/v/pizza-4ps/56ab49cc498e877ac0cf32fc',\n   'categories': [{'id': '4bf58dd8d48988d1ca941735',\n     'name': 'Pizza Place',\n     'pluralName': 'Pizza Places',\n     'shortName': 'Pizza',\n     'icon': {'prefix': 'https://ss3.4sqi.net/img/categories_v2/food/pizza_',\n      'suffix': '.png'},\n     'primary': True}],\n   'verified': False,\n   'stats': {'tipCount': 14},\n   'price': {'tier': 1, 'message': 'Cheap', 'currency': '$'},\n   'likes': {'count': 61,\n    'groups': [{'type': 'others', 'count': 61, 'items': []}],\n    'summary': '61 Likes'},\n   'dislike': False,\n   'ok': False,\n   'rating': 8.3,\n   'ratingColor': '73CF42',\n   'ratingSignals': 78,\n   'allowMenuUrlEdit': True,\n   'beenHere': {'count': 0,\n    'unconfirmedCount': 0,\n    'marked': False,\n    'lastCheckinExpiredAt': 0},\n   'specials': {'count': 0, 'items': []},\n   'photos': {'count': 73,\n    'groups': [{'type': 'venue',\n      'name': 'Venue photos',\n      'count': 73,\n      'items': [{'id': '5e1c2071ccdfcf0007f5a33e',\n        'createdAt': 1578901617,\n        'source': {'name': 'Foursquare for iOS',\n         'url': 'https://foursquare.com/download/#/iphone'},\n        'prefix': 'https://fastly.4sqi.net/img/general/',\n        'suffix': '/4148859_h0qaLMLTrH4lWF4KC7On1GbfK_0z2wPLpt7r0oQKWZ4.jpg',\n        'width': 1920,\n        'height': 1440,\n        'user': {'id': '4148859',\n         'firstName': 'Sela',\n         'lastName': 'Y',\n         'photo': {'prefix': 'https://fastly.4sqi.net/img/user/',\n          'suffix': '/XKDG3CM2MZVJN0VN.jpg'}},\n        'visibility': 'public'}]}]},\n   'reasons': {'count': 1,\n    'items': [{'summary': 'Lots of people like this place',\n      'type': 'general',\n      'reasonName': 'rawLikesReason'}]},\n   'hereNow': {'count': 0, 'summary': 'Nobody here', 'groups': []},\n   'createdAt': 1454066124,\n   'tips': {'count': 14,\n    'groups': [{'type': 'others',\n      'name': 'All tips',\n      'count': 14,\n      'items': [{'id': '5d35ba940c94d40023ffe70b',\n        'createdAt': 1563802260,\n        'text': 'When they say for birthday guests you can choose any dessert on the house, they just mean the dessert *they* choose.',\n        'type': 'user',\n        'canonicalUrl': 'https://foursquare.com/item/5d35ba940c94d40023ffe70b',\n        'lang': 'en',\n        'likes': {'count': 0, 'groups': []},\n        'logView': True,\n        'agreeCount': 0,\n        'disagreeCount': 0,\n        'todo': {'count': 0},\n        'user': {'id': '48319227',\n         'firstName': 'robotchef',\n         'lastName': 's',\n         'photo': {'prefix': 'https://fastly.4sqi.net/img/user/',\n          'suffix': '/48319227-D3VCKYOZMYG0TRTN.jpg'}},\n        'authorInteractionType': 'meh'}]}]},\n   'shortUrl': 'http://4sq.com/20xaEfX',\n   'timeZone': 'Asia/Ho_Chi_Minh',\n   'listed': {'count': 29,\n    'groups': [{'type': 'others',\n      'name': 'Lists from other people',\n      'count': 29,\n      'items': [{'id': '594a922486f4cc6123b9b4a6',\n        'name': 'Ho Chi Minh June 2017',\n        'description': '',\n        'type': 'others',\n        'user': {'id': '32544596',\n         'firstName': 'Jerome',\n         'lastName': 'C',\n         'photo': {'prefix': 'https://fastly.4sqi.net/img/user/',\n          'suffix': '/-O02QK1BWKPY4K0JW.jpg'}},\n        'editable': False,\n        'public': True,\n        'collaborative': False,\n        'url': '/ayulin/list/ho-chi-minh-june-2017',\n        'canonicalUrl': 'https://foursquare.com/ayulin/list/ho-chi-minh-june-2017',\n        'createdAt': 1498059300,\n        'updatedAt': 1498059507,\n        'followers': {'count': 2},\n        'listItems': {'count': 18,\n         'items': [{'id': 'v56ab49cc498e877ac0cf32fc',\n           'createdAt': 1498059507}]}},\n       {'id': '587f6d25072d6b581a45b6d0',\n        'name': 'ランチ',\n        'description': '',\n        'type': 'others',\n        'user': {'id': '390716794',\n         'firstName': 'ggg',\n         'photo': {'prefix': 'https://fastly.4sqi.net/img/user/',\n          'suffix': '/blank_boy.png',\n          'default': True}},\n        'editable': False,\n        'public': True,\n        'collaborative': False,\n        'url': '/user/390716794/list/%E3%83%A9%E3%83%B3%E3%83%81',\n        'canonicalUrl': 'https://foursquare.com/user/390716794/list/%E3%83%A9%E3%83%B3%E3%83%81',\n        'createdAt': 1484746021,\n        'updatedAt': 1518600880,\n        'followers': {'count': 0},\n        'listItems': {'count': 350,\n         'items': [{'id': 'v56ab49cc498e877ac0cf32fc',\n           'createdAt': 1486347737}]}},\n       {'id': '4eaaebc66da1cafdae1e1d4e',\n        'name': 'All time fav in HCMC',\n        'description': '',\n        'type': 'others',\n        'user': {'id': '15624728',\n         'firstName': 'Kat',\n         'lastName': 'V',\n         'photo': {'prefix': 'https://fastly.4sqi.net/img/user/',\n          'suffix': '/15624728_EDTfy2vn_EeCd-J57tetK6jkQw4Lu7a5zXvJWU288Le6UPFMU9d6V_51GsfgzizzSkOuJ7r1O.jpg'}},\n        'editable': False,\n        'public': True,\n        'collaborative': False,\n        'url': '/user/15624728/list/all-time-fav-in-hcmc',\n        'canonicalUrl': 'https://foursquare.com/user/15624728/list/all-time-fav-in-hcmc',\n        'createdAt': 1319824326,\n        'updatedAt': 1460732638,\n        'followers': {'count': 1},\n        'listItems': {'count': 14,\n         'items': [{'id': 'v56ab49cc498e877ac0cf32fc',\n           'createdAt': 1460732638}]}},\n       {'id': '593f3c58fd16bb3770ade272',\n        'name': 'Ho Chi Mihn',\n        'description': '',\n        'type': 'others',\n        'user': {'id': '69675233',\n         'firstName': 'Benny',\n         'lastName': 'G',\n         'photo': {'prefix': 'https://fastly.4sqi.net/img/user/',\n          'suffix': '/0TMLVV2052XY1MJM.jpg'}},\n        'editable': False,\n        'public': True,\n        'collaborative': True,\n        'url': '/user/69675233/list/ho-chi-mihn',\n        'canonicalUrl': 'https://foursquare.com/user/69675233/list/ho-chi-mihn',\n        'createdAt': 1497316440,\n        'updatedAt': 1497324706,\n        'followers': {'count': 1},\n        'listItems': {'count': 50,\n         'items': [{'id': 'v56ab49cc498e877ac0cf32fc',\n           'createdAt': 1497316472}]}}]}]},\n   'popular': {'status': 'Likely open',\n    'richStatus': {'entities': [], 'text': 'Likely open'},\n    'isOpen': True,\n    'isLocalHoliday': False,\n    'timeframes': [{'days': 'Today',\n      'includesToday': True,\n      'open': [{'renderedTime': '10:00 AM–9:00 PM'}],\n      'segments': []},\n     {'days': 'Sun',\n      'open': [{'renderedTime': '11:00 AM–10:00 PM'}],\n      'segments': []},\n     {'days': 'Mon–Tue',\n      'open': [{'renderedTime': 'Noon–2:00 PM'},\n       {'renderedTime': '6:00 PM–9:00 PM'}],\n      'segments': []},\n     {'days': 'Wed',\n      'open': [{'renderedTime': '11:00 AM–1:00 PM'},\n       {'renderedTime': '6:00 PM–9:00 PM'}],\n      'segments': []},\n     {'days': 'Thu',\n      'open': [{'renderedTime': 'Noon–3:00 PM'},\n       {'renderedTime': '6:00 PM–9:00 PM'}],\n      'segments': []},\n     {'days': 'Fri',\n      'open': [{'renderedTime': 'Noon–2:00 PM'},\n       {'renderedTime': '5:00 PM–9:00 PM'}],\n      'segments': []}]},\n   'seasonalHours': [],\n   'pageUpdates': {'count': 0, 'items': []},\n   'inbox': {'count': 0, 'items': []},\n   'attributes': {'groups': [{'type': 'price',\n      'name': 'Price',\n      'summary': '$',\n      'count': 1,\n      'items': [{'displayName': 'Price',\n        'displayValue': '$',\n        'priceTier': 1}]},\n     {'type': 'reservations',\n      'name': 'Reservations',\n      'summary': 'Reservations',\n      'count': 3,\n      'items': [{'displayName': 'Reservations', 'displayValue': 'Yes'}]},\n     {'type': 'outdoorSeating',\n      'name': 'Outdoor Seating',\n      'count': 1,\n      'items': [{'displayName': 'Outdoor Seating', 'displayValue': 'No'}]},\n     {'type': 'wifi',\n      'name': 'Wi-Fi',\n      'summary': 'Wi-Fi',\n      'count': 1,\n      'items': [{'displayName': 'Wi-Fi', 'displayValue': 'Yes'}]},\n     {'type': 'serves',\n      'name': 'Menus',\n      'summary': 'Dinner, Lunch & more',\n      'count': 8,\n      'items': [{'displayName': 'Brunch', 'displayValue': 'Brunch'},\n       {'displayName': 'Lunch', 'displayValue': 'Lunch'},\n       {'displayName': 'Dinner', 'displayValue': 'Dinner'}]},\n     {'type': 'drinks',\n      'name': 'Drinks',\n      'summary': 'Full Bar & Cocktails',\n      'count': 5,\n      'items': [{'displayName': 'Full Bar', 'displayValue': 'Full Bar'},\n       {'displayName': 'Cocktails', 'displayValue': 'Cocktails'}]}]},\n   'bestPhoto': {'id': '5e1c2071ccdfcf0007f5a33e',\n    'createdAt': 1578901617,\n    'source': {'name': 'Foursquare for iOS',\n     'url': 'https://foursquare.com/download/#/iphone'},\n    'prefix': 'https://fastly.4sqi.net/img/general/',\n    'suffix': '/4148859_h0qaLMLTrH4lWF4KC7On1GbfK_0z2wPLpt7r0oQKWZ4.jpg',\n    'width': 1920,\n    'height': 1440,\n    'visibility': 'public'},\n   'colors': {'highlightColor': {'photoId': '5e1c2071ccdfcf0007f5a33e',\n     'value': -14145528},\n    'highlightTextColor': {'photoId': '5e1c2071ccdfcf0007f5a33e', 'value': -1},\n    'algoVersion': 3}}}}"
     },
     "metadata": {},
     "execution_count": 31
    }
   ],
   "source": [
    "url1 = 'https://api.foursquare.com/v2/venues/56ab49cc498e877ac0cf32fc?&client_id=ZRHSAYU5TZTMWAMXTJ3HTUEN5CHDJAI1ZXC3STWIPCUVIJZT&client_secret=T2CXAM5OQ2UIINW1BUWDTOAW1W4IXOXB352VTCHJQKWFCA2P&v=20180605'\n",
    "x = requests.get(url1).json()\n",
    "x"
   ]
  },
  {
   "cell_type": "code",
   "execution_count": 120,
   "metadata": {},
   "outputs": [
    {
     "output_type": "execute_result",
     "data": {
      "text/plain": "{'meta': {'code': 200, 'requestId': '5f1aa3dc1e406e22326a4090'},\n 'response': {'suggestedFilters': {'header': 'Tap to show:',\n   'filters': [{'name': 'Open now', 'key': 'openNow'}]},\n  'headerLocation': 'Ho Chi Minh City',\n  'headerFullLocation': 'Ho Chi Minh City',\n  'headerLocationGranularity': 'city',\n  'totalResults': 88,\n  'suggestedBounds': {'ne': {'lat': 10.763572827000026,\n    'lng': 106.74986199865401},\n   'sw': {'lat': 10.709572772999973, 'lng': 106.69500240134599}},\n  'groups': [{'type': 'Recommended Places',\n    'name': 'recommended',\n    'items': [{'reasons': {'count': 0,\n       'items': [{'summary': 'This spot is popular',\n         'type': 'general',\n         'reasonName': 'globalInteractionReason'}]},\n      'venue': {'id': '56ab49cc498e877ac0cf32fc',\n       'name': \"Pizza 4P's\",\n       'location': {'address': 'Tôn Dật Tiên District 7',\n        'lat': 10.731694587962846,\n        'lng': 106.71575577202888,\n        'labeledLatLngs': [{'label': 'display',\n          'lat': 10.731694587962846,\n          'lng': 106.71575577202888}],\n        'distance': 909,\n        'cc': 'VN',\n        'city': 'Hồ Chí Minh',\n        'country': 'Việt Nam',\n        'formattedAddress': ['Tôn Dật Tiên District 7',\n         'Hồ Chí Minh',\n         'Việt Nam']},\n       'categories': [{'id': '4bf58dd8d48988d1ca941735',\n         'name': 'Pizza Place',\n         'pluralName': 'Pizza Places',\n         'shortName': 'Pizza',\n         'icon': {'prefix': 'https://ss3.4sqi.net/img/categories_v2/food/pizza_',\n          'suffix': '.png'},\n         'primary': True}],\n       'photos': {'count': 0, 'groups': []}},\n      'referralId': 'e-0-56ab49cc498e877ac0cf32fc-0'},\n     {'reasons': {'count': 0,\n       'items': [{'summary': 'This spot is popular',\n         'type': 'general',\n         'reasonName': 'globalInteractionReason'}]},\n      'venue': {'id': '54c329bf498ebc321e0831fc',\n       'name': 'Uraetei BBQ Japan 5 - Pho Dinh 浦江亭',\n       'location': {'address': 'Tran Van Thai',\n        'lat': 10.730767683428098,\n        'lng': 106.72323476849289,\n        'labeledLatLngs': [{'label': 'display',\n          'lat': 10.730767683428098,\n          'lng': 106.72323476849289}],\n        'distance': 652,\n        'cc': 'VN',\n        'city': 'Thành phố Hồ Chí Minh',\n        'state': 'Thành phố Hồ Chí Minh',\n        'country': 'Việt Nam',\n        'formattedAddress': ['Tran Van Thai',\n         'Thành phố Hồ Chí Minh',\n         'Thành phố Hồ Chí Minh',\n         'Việt Nam']},\n       'categories': [{'id': '4bf58dd8d48988d1df931735',\n         'name': 'BBQ Joint',\n         'pluralName': 'BBQ Joints',\n         'shortName': 'BBQ',\n         'icon': {'prefix': 'https://ss3.4sqi.net/img/categories_v2/food/bbqalt_',\n          'suffix': '.png'},\n         'primary': True}],\n       'photos': {'count': 0, 'groups': []}},\n      'referralId': 'e-0-54c329bf498ebc321e0831fc-1'},\n     {'reasons': {'count': 0,\n       'items': [{'summary': 'This spot is popular',\n         'type': 'general',\n         'reasonName': 'globalInteractionReason'}]},\n      'venue': {'id': '5a3513165d891b1944abe0ba',\n       'name': 'Starbucks (Starbucks Crescent Residence 1)',\n       'location': {'address': '103 tôn dật tiên, Phú Mỹ Hưng, Tan Phu Ward District 7',\n        'lat': 10.72816493936164,\n        'lng': 106.71883831230495,\n        'labeledLatLngs': [{'label': 'display',\n          'lat': 10.72816493936164,\n          'lng': 106.71883831230495}],\n        'distance': 1015,\n        'cc': 'VN',\n        'state': 'Thành phố Hồ Chí Minh',\n        'country': 'Việt Nam',\n        'formattedAddress': ['103 tôn dật tiên, Phú Mỹ Hưng, Tan Phu Ward District 7',\n         'Tân Phú',\n         'Thành phố Hồ Chí Minh',\n         'Việt Nam']},\n       'categories': [{'id': '4bf58dd8d48988d1e0931735',\n         'name': 'Coffee Shop',\n         'pluralName': 'Coffee Shops',\n         'shortName': 'Coffee Shop',\n         'icon': {'prefix': 'https://ss3.4sqi.net/img/categories_v2/food/coffeeshop_',\n          'suffix': '.png'},\n         'primary': True}],\n       'photos': {'count': 0, 'groups': []}},\n      'referralId': 'e-0-5a3513165d891b1944abe0ba-2'},\n     {'reasons': {'count': 0,\n       'items': [{'summary': 'This spot is popular',\n         'type': 'general',\n         'reasonName': 'globalInteractionReason'}]},\n      'venue': {'id': '55ff953b498edd6520268d6c',\n       'name': 'Phở Định 3',\n       'location': {'address': '3-1B Nguyễn Cao - Mỹ An',\n        'crossStreet': 'Phú Mỹ Hưng',\n        'lat': 10.727370182597445,\n        'lng': 106.71232871192842,\n        'labeledLatLngs': [{'label': 'display',\n          'lat': 10.727370182597445,\n          'lng': 106.71232871192842}],\n        'distance': 1506,\n        'cc': 'VN',\n        'country': 'Việt Nam',\n        'formattedAddress': ['3-1B Nguyễn Cao - Mỹ An (Phú Mỹ Hưng)',\n         'Việt Nam']},\n       'categories': [{'id': '4bf58dd8d48988d14a941735',\n         'name': 'Vietnamese Restaurant',\n         'pluralName': 'Vietnamese Restaurants',\n         'shortName': 'Vietnamese',\n         'icon': {'prefix': 'https://ss3.4sqi.net/img/categories_v2/food/vietnamese_',\n          'suffix': '.png'},\n         'primary': True}],\n       'photos': {'count': 0, 'groups': []}},\n      'referralId': 'e-0-55ff953b498edd6520268d6c-3'},\n     {'reasons': {'count': 0,\n       'items': [{'summary': 'This spot is popular',\n         'type': 'general',\n         'reasonName': 'globalInteractionReason'}]},\n      'venue': {'id': '4fe6921fe4b093a5e0b388a0',\n       'name': 'Fit24 Fitness & Yoga Center - Thien Son Plaza',\n       'location': {'address': '800 Nguyen Van Linh St., District 7',\n        'lat': 10.73209293788442,\n        'lng': 106.71929709808948,\n        'labeledLatLngs': [{'label': 'display',\n          'lat': 10.73209293788442,\n          'lng': 106.71929709808948}],\n        'distance': 605,\n        'cc': 'VN',\n        'city': 'Thành phố Hồ Chí Minh',\n        'country': 'Việt Nam',\n        'formattedAddress': ['800 Nguyen Van Linh St., District 7',\n         'Thành phố Hồ Chí Minh',\n         'Việt Nam']},\n       'categories': [{'id': '4bf58dd8d48988d175941735',\n         'name': 'Gym / Fitness Center',\n         'pluralName': 'Gyms or Fitness Centers',\n         'shortName': 'Gym / Fitness',\n         'icon': {'prefix': 'https://ss3.4sqi.net/img/categories_v2/building/gym_',\n          'suffix': '.png'},\n         'primary': True}],\n       'photos': {'count': 0, 'groups': []}},\n      'referralId': 'e-0-4fe6921fe4b093a5e0b388a0-4'},\n     {'reasons': {'count': 0,\n       'items': [{'summary': 'This spot is popular',\n         'type': 'general',\n         'reasonName': 'globalInteractionReason'}]},\n      'venue': {'id': '514440d6e4b0f632b3e1b7a9',\n       'name': 'Saigon Sports Club',\n       'location': {'address': '514B',\n        'crossStreet': '514B Huynh Tan Phat',\n        'lat': 10.739536661482282,\n        'lng': 106.72899293121843,\n        'labeledLatLngs': [{'label': 'display',\n          'lat': 10.739536661482282,\n          'lng': 106.72899293121843}],\n        'distance': 789,\n        'cc': 'VN',\n        'city': 'Binh Thuan, District 7',\n        'state': 'Thành phố Hồ Chí Minh',\n        'country': 'Việt Nam',\n        'formattedAddress': ['514B (514B Huynh Tan Phat)',\n         'Binh Thuan, District 7',\n         'Thành phố Hồ Chí Minh',\n         'Việt Nam']},\n       'categories': [{'id': '4bf58dd8d48988d175941735',\n         'name': 'Gym / Fitness Center',\n         'pluralName': 'Gyms or Fitness Centers',\n         'shortName': 'Gym / Fitness',\n         'icon': {'prefix': 'https://ss3.4sqi.net/img/categories_v2/building/gym_',\n          'suffix': '.png'},\n         'primary': True}],\n       'photos': {'count': 0, 'groups': []}},\n      'referralId': 'e-0-514440d6e4b0f632b3e1b7a9-5'},\n     {'reasons': {'count': 0,\n       'items': [{'summary': 'This spot is popular',\n         'type': 'general',\n         'reasonName': 'globalInteractionReason'}]},\n      'venue': {'id': '54cf3e6a498e75165d5c643d',\n       'name': 'Eden Coffee House',\n       'location': {'address': 'R3-85 Khu Pho, Hung Phouc 1, Phu My Hung, Quan 7',\n        'lat': 10.731404859439182,\n        'lng': 106.70942126468171,\n        'labeledLatLngs': [{'label': 'display',\n          'lat': 10.731404859439182,\n          'lng': 106.70942126468171}],\n        'distance': 1534,\n        'postalCode': '700000',\n        'cc': 'VN',\n        'city': 'Thành phố Hồ Chí Minh',\n        'state': 'Thành phố Hồ Chí Minh',\n        'country': 'Việt Nam',\n        'formattedAddress': ['R3-85 Khu Pho, Hung Phouc 1, Phu My Hung, Quan 7',\n         'Thành phố Hồ Chí Minh',\n         'Thành phố Hồ Chí Minh',\n         'Việt Nam']},\n       'categories': [{'id': '4bf58dd8d48988d16d941735',\n         'name': 'Café',\n         'pluralName': 'Cafés',\n         'shortName': 'Café',\n         'icon': {'prefix': 'https://ss3.4sqi.net/img/categories_v2/food/cafe_',\n          'suffix': '.png'},\n         'primary': True}],\n       'photos': {'count': 0, 'groups': []}},\n      'referralId': 'e-0-54cf3e6a498e75165d5c643d-6'},\n     {'reasons': {'count': 0,\n       'items': [{'summary': 'This spot is popular',\n         'type': 'general',\n         'reasonName': 'globalInteractionReason'}]},\n      'venue': {'id': '5730dcfe498eb9b0992b5c59',\n       'name': 'MerPerl Crystal Palace',\n       'location': {'address': 'Lot C17-1-2 Nguyen Luong Bang',\n        'lat': 10.726712,\n        'lng': 106.723237,\n        'labeledLatLngs': [{'label': 'display',\n          'lat': 10.726712,\n          'lng': 106.723237}],\n        'distance': 1101,\n        'cc': 'VN',\n        'city': 'Thành phố Hồ Chí Minh',\n        'state': 'Thành phố Hồ Chí Minh',\n        'country': 'Việt Nam',\n        'formattedAddress': ['Lot C17-1-2 Nguyen Luong Bang',\n         'Thành phố Hồ Chí Minh',\n         'Thành phố Hồ Chí Minh',\n         'Việt Nam']},\n       'categories': [{'id': '4bf58dd8d48988d1fa931735',\n         'name': 'Hotel',\n         'pluralName': 'Hotels',\n         'shortName': 'Hotel',\n         'icon': {'prefix': 'https://ss3.4sqi.net/img/categories_v2/travel/hotel_',\n          'suffix': '.png'},\n         'primary': True}],\n       'photos': {'count': 0, 'groups': []}},\n      'referralId': 'e-0-5730dcfe498eb9b0992b5c59-7'},\n     {'reasons': {'count': 0,\n       'items': [{'summary': 'This spot is popular',\n         'type': 'general',\n         'reasonName': 'globalInteractionReason'}]},\n      'venue': {'id': '4c56d03d2308be9ad6a9576c',\n       'name': 'Ganesh Indian Restaurant',\n       'location': {'address': 'Duong 6p So 54 hung phuoc 3',\n        'lat': 10.729554798263617,\n        'lng': 106.70675564189176,\n        'labeledLatLngs': [{'label': 'display',\n          'lat': 10.729554798263617,\n          'lng': 106.70675564189176}],\n        'distance': 1884,\n        'cc': 'VN',\n        'state': 'Thành phố Hồ Chí Minh',\n        'country': 'Việt Nam',\n        'formattedAddress': ['Duong 6p So 54 hung phuoc 3',\n         'Thành phố Hồ Chí Minh',\n         'Việt Nam']},\n       'categories': [{'id': '4bf58dd8d48988d10f941735',\n         'name': 'Indian Restaurant',\n         'pluralName': 'Indian Restaurants',\n         'shortName': 'Indian',\n         'icon': {'prefix': 'https://ss3.4sqi.net/img/categories_v2/food/indian_',\n          'suffix': '.png'},\n         'primary': True}],\n       'photos': {'count': 0, 'groups': []}},\n      'referralId': 'e-0-4c56d03d2308be9ad6a9576c-8'},\n     {'reasons': {'count': 0,\n       'items': [{'summary': 'This spot is popular',\n         'type': 'general',\n         'reasonName': 'globalInteractionReason'}]},\n      'venue': {'id': '4c24a955b7b8a5936ac63ce8',\n       'name': 'Annam Gourmet',\n       'location': {'address': 'SB2-1 Mỹ Khánh 4, Nguyễn Đức Cảnh',\n        'lat': 10.727338731663322,\n        'lng': 106.7087175988335,\n        'labeledLatLngs': [{'label': 'display',\n          'lat': 10.727338731663322,\n          'lng': 106.7087175988335}],\n        'distance': 1818,\n        'cc': 'VN',\n        'city': 'Quận 7',\n        'state': 'Tp. Hồ Chí Minh',\n        'country': 'Việt Nam',\n        'formattedAddress': ['SB2-1 Mỹ Khánh 4, Nguyễn Đức Cảnh',\n         'Quận 7',\n         'Tp. Hồ Chí Minh',\n         'Việt Nam']},\n       'categories': [{'id': '4bf58dd8d48988d146941735',\n         'name': 'Deli / Bodega',\n         'pluralName': 'Delis / Bodegas',\n         'shortName': 'Deli / Bodega',\n         'icon': {'prefix': 'https://ss3.4sqi.net/img/categories_v2/food/deli_',\n          'suffix': '.png'},\n         'primary': True}],\n       'photos': {'count': 0, 'groups': []}},\n      'referralId': 'e-0-4c24a955b7b8a5936ac63ce8-9'}]}]}}"
     },
     "metadata": {},
     "execution_count": 120
    }
   ],
   "source": [
    "results = requests.get(url).json()\n",
    "results"
   ]
  }
 ]
}