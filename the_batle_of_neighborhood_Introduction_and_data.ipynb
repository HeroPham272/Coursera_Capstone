{
 "metadata": {
  "language_info": {
   "codemirror_mode": {
    "name": "ipython",
    "version": 3
   },
   "file_extension": ".py",
   "mimetype": "text/x-python",
   "name": "python",
   "nbconvert_exporter": "python",
   "pygments_lexer": "ipython3",
   "version": 3
  },
  "orig_nbformat": 2
 },
 "nbformat": 4,
 "nbformat_minor": 2,
 "cells": [
  {
   "cell_type": "markdown",
   "metadata": {},
   "source": [
    "# Opening bank branch\n",
    "## Introduction\n",
    "<p>Techcombank is one of the largest bank in Vietnam. Their target is becoming largest bank in Vietnam. They are implementing strategies to reach their target. In which, Opening bank branch is very important. More branch they open, people know their brand more. Opening branch also helps customers to transact conveniently. And hence they will become growing and larger.<p>\n",
    "<p>In this strategy, they want to open new branches in District 7, Ho Chi Minh city. The problem is finding suitable locations to open branches. It is the work that I must do. I must find down the location of places that people often go to in order to spend money like Coffee shops, restaurants, shopping, etc. If they open branches near those places, it will be easy to approach potential customers <p>\n",
    "\n",
    "## Describe Data\n",
    "<p> First of all we need to collect Data of all places in District 7, Ho Chi Minh city including their name, location (address, latitude, longitude). In order to asset Data we use FourSquare and apply folium for visualizing a particular neighbor in which that we will observe customer \"traffic\" and predict an appropriate location of new branches in District 7.<p>"
   ]
  }
 ]
}