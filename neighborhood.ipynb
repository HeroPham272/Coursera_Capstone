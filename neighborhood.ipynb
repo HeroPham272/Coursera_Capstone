{
 "metadata": {
  "language_info": {
   "codemirror_mode": {
    "name": "ipython",
    "version": 3
   },
   "file_extension": ".py",
   "mimetype": "text/x-python",
   "name": "python",
   "nbconvert_exporter": "python",
   "pygments_lexer": "ipython3",
   "version": "3.6.9-final"
  },
  "orig_nbformat": 2,
  "kernelspec": {
   "name": "python36964bit4b57db7e1d80455996a09e303bda8f1a",
   "display_name": "Python 3.6.9 64-bit"
  }
 },
 "nbformat": 4,
 "nbformat_minor": 2,
 "cells": [
  {
   "cell_type": "markdown",
   "metadata": {},
   "source": [
    "# 1. Crawl data"
   ]
  },
  {
   "cell_type": "code",
   "execution_count": 45,
   "metadata": {},
   "outputs": [],
   "source": [
    "import pandas as pd\n",
    "from selenium import webdriver\n",
    "import time\n",
    "\n",
    "\n",
    "def crawl(driverfile = '/home/phamhung/Documents/crawl_data/selenium/chromedriver', url = 'https://en.wikipedia.org/wiki/List_of_postal_codes_of_Canada:_M'):\n",
    "    driver = webdriver.Chrome(driverfile)\n",
    "    driver.get(url)\n",
    "    time.sleep(2)\n",
    "    listneighbor = driver.find_elements_by_xpath('//table[@class=\"wikitable sortable jquery-tablesorter\"]/tbody/tr')\n",
    "\n",
    "    neighbor = pd.DataFrame(columns=['Postal Code','Borough','Neighborhood'])\n",
    "    for i in range(len(listneighbor)):\n",
    "        neighbor.loc[i,'Postal Code'] = eval(f'driver.find_element_by_xpath(\\'//table[@class=\"wikitable sortable jquery-tablesorter\"]/tbody/tr[{i+1}]/td[1]\\').text')\n",
    "        neighbor.loc[i,'Borough'] = eval(f'driver.find_element_by_xpath(\\'//table[@class=\"wikitable sortable jquery-tablesorter\"]/tbody/tr[{i+1}]/td[2]\\').text')\n",
    "        neighbor.loc[i,'Neighborhood'] = eval(f'driver.find_element_by_xpath(\\'//table[@class=\"wikitable sortable jquery-tablesorter\"]/tbody/tr[{i+1}]/td[3]\\').text')\n",
    "    return neighbor"
   ]
  },
  {
   "cell_type": "code",
   "execution_count": 51,
   "metadata": {},
   "outputs": [],
   "source": [
    "neighbor = crawl()\n",
    "neighbor = neighbor[neighbor.Borough != 'Not assigned']\n",
    "neighbor.Neighborhood.replace('Not assigned',neighbor.Borough, inplace = True)\n",
    "print('Shape: ',neighbor.shape)"
   ]
  },
  {
   "cell_type": "markdown",
   "metadata": {},
   "source": [
    "# 2. Location of neighborhoods"
   ]
  },
  {
   "cell_type": "code",
   "execution_count": 78,
   "metadata": {},
   "outputs": [
    {
     "output_type": "execute_result",
     "data": {
      "text/plain": "  Postal Code           Borough                                 Neighborhood  \\\n0         M3A        North York                                    Parkwoods   \n1         M4A        North York                             Victoria Village   \n2         M5A  Downtown Toronto                    Regent Park, Harbourfront   \n3         M6A        North York             Lawrence Manor, Lawrence Heights   \n4         M7A  Downtown Toronto  Queen's Park, Ontario Provincial Government   \n\n    Latitude  Longitude  \n0  43.753259 -79.329656  \n1  43.725882 -79.315572  \n2  43.654260 -79.360636  \n3  43.718518 -79.464763  \n4  43.662301 -79.389494  ",
      "text/html": "<div>\n<style scoped>\n    .dataframe tbody tr th:only-of-type {\n        vertical-align: middle;\n    }\n\n    .dataframe tbody tr th {\n        vertical-align: top;\n    }\n\n    .dataframe thead th {\n        text-align: right;\n    }\n</style>\n<table border=\"1\" class=\"dataframe\">\n  <thead>\n    <tr style=\"text-align: right;\">\n      <th></th>\n      <th>Postal Code</th>\n      <th>Borough</th>\n      <th>Neighborhood</th>\n      <th>Latitude</th>\n      <th>Longitude</th>\n    </tr>\n  </thead>\n  <tbody>\n    <tr>\n      <th>0</th>\n      <td>M3A</td>\n      <td>North York</td>\n      <td>Parkwoods</td>\n      <td>43.753259</td>\n      <td>-79.329656</td>\n    </tr>\n    <tr>\n      <th>1</th>\n      <td>M4A</td>\n      <td>North York</td>\n      <td>Victoria Village</td>\n      <td>43.725882</td>\n      <td>-79.315572</td>\n    </tr>\n    <tr>\n      <th>2</th>\n      <td>M5A</td>\n      <td>Downtown Toronto</td>\n      <td>Regent Park, Harbourfront</td>\n      <td>43.654260</td>\n      <td>-79.360636</td>\n    </tr>\n    <tr>\n      <th>3</th>\n      <td>M6A</td>\n      <td>North York</td>\n      <td>Lawrence Manor, Lawrence Heights</td>\n      <td>43.718518</td>\n      <td>-79.464763</td>\n    </tr>\n    <tr>\n      <th>4</th>\n      <td>M7A</td>\n      <td>Downtown Toronto</td>\n      <td>Queen's Park, Ontario Provincial Government</td>\n      <td>43.662301</td>\n      <td>-79.389494</td>\n    </tr>\n  </tbody>\n</table>\n</div>"
     },
     "metadata": {},
     "execution_count": 78
    }
   ],
   "source": [
    "latlng = pd.read_csv('/home/phamhung/Documents/data_engineer/Coursera_Capstone/Geospatial_Coordinates.csv')\n",
    "latlng\n",
    "\n",
    "neighbor = neighbor.merge(latlng, how='left', on = 'Postal Code')\n",
    "\n"
   ]
  },
  {
   "cell_type": "markdown",
   "metadata": {},
   "source": [
    "# 3. Clustering\n"
   ]
  },
  {
   "cell_type": "code",
   "execution_count": null,
   "metadata": {},
   "outputs": [],
   "source": []
  }
 ]
}